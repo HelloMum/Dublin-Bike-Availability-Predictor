{
 "cells": [
  {
   "cell_type": "code",
   "execution_count": 1,
   "id": "4c85e5dc",
   "metadata": {
    "ExecuteTime": {
     "end_time": "2024-03-29T12:22:32.701031Z",
     "start_time": "2024-03-29T12:22:31.939567Z"
    }
   },
   "outputs": [
    {
     "name": "stderr",
     "output_type": "stream",
     "text": [
      "C:\\Users\\35385\\AppData\\Local\\Temp\\ipykernel_43796\\431151040.py:1: DeprecationWarning: \n",
      "Pyarrow will become a required dependency of pandas in the next major release of pandas (pandas 3.0),\n",
      "(to allow more performant data types, such as the Arrow string type, and better interoperability with other libraries)\n",
      "but was not found to be installed on your system.\n",
      "If this would cause problems for you,\n",
      "please provide us feedback at https://github.com/pandas-dev/pandas/issues/54466\n",
      "        \n",
      "  import pandas as pd\n"
     ]
    },
    {
     "name": "stdout",
     "output_type": "stream",
     "text": [
      "Stations Dynamic Data:\n",
      "   id  number                  name  banking  bonus status  \\\n",
      "0   1      42      SMITHFIELD NORTH        0      0   OPEN   \n",
      "1   2      30  PARNELL SQUARE NORTH        0      0   OPEN   \n",
      "2   3      54        CLONMEL STREET        0      0   OPEN   \n",
      "3   4     108         AVONDALE ROAD        0      0   OPEN   \n",
      "4   5      20     JAMES STREET EAST        0      0   OPEN   \n",
      "\n",
      "           last_update           api_update  available_bikes  \\\n",
      "0  2024-02-21 00:59:33  2024-02-21 01:00:25               30   \n",
      "1  2024-02-21 00:51:51  2024-02-21 01:00:25                0   \n",
      "2  2024-02-21 00:50:28  2024-02-21 01:00:25                3   \n",
      "3  2024-02-21 00:51:03  2024-02-21 01:00:25               25   \n",
      "4  2024-02-21 00:52:14  2024-02-21 01:00:25                0   \n",
      "\n",
      "   available_bike_stands  bike_stands  \n",
      "0                      0           30  \n",
      "1                     20           20  \n",
      "2                     30           33  \n",
      "3                     10           35  \n",
      "4                     30           30  \n",
      "\n",
      "Stations Static Data:\n",
      "   place_id  place_name         place_address  place_latitude  \\\n",
      "0         1          42      Smithfield North       53.349562   \n",
      "1         2          30  Parnell Square North       53.353742   \n",
      "2         3          54        Clonmel Street       53.336021   \n",
      "3         4         108         Avondale Road       53.359405   \n",
      "4         5          20     James Street East       53.336597   \n",
      "\n",
      "   place_longitude           api_update  \n",
      "0        -6.278198  2024-02-21 01:03:56  \n",
      "1        -6.265301  2024-02-21 01:03:56  \n",
      "2        -6.262980  2024-02-21 01:03:56  \n",
      "3        -6.276142  2024-02-21 01:03:56  \n",
      "4        -6.248109  2024-02-21 01:03:56  \n",
      "\n",
      "Weather Data:\n",
      "   id            timestamp  temperature main_event  rain_hour_day  feels_like  \\\n",
      "0   1  2024-02-21 00:58:15       282.26        NaN            NaN      278.39   \n",
      "1   2  2024-02-21 01:10:02       282.26        NaN            NaN      278.39   \n",
      "2   3  2024-02-21 01:11:02       282.26        NaN            NaN      278.39   \n",
      "3   4  2024-02-21 01:11:02       282.26        NaN            NaN      278.39   \n",
      "4   5  2024-02-21 01:14:01       282.26       Rain           6.87      278.39   \n",
      "\n",
      "   humidity  wind_speed      description  \n",
      "0        93         9.1  overcast clouds  \n",
      "1        93         9.1       light rain  \n",
      "2        93         9.1       light rain  \n",
      "3        93         9.1       light rain  \n",
      "4        93         9.1       light rain  \n",
      "\n",
      "Average Temperature: 8.348024122807017\n",
      "Number of Bike Stations: 114\n",
      "\n",
      "Most Common Main Events:\n",
      "main_event\n",
      "Clouds     7264\n",
      "Rain        942\n",
      "Drizzle     510\n",
      "Clear       200\n",
      "Mist        170\n",
      "Name: count, dtype: int64\n"
     ]
    }
   ],
   "source": [
    "import pandas as pd\n",
    "\n",
    "# Read CSV files into pandas DataFrames\n",
    "stations_dynamic_df = pd.read_csv(\"ExportedData/stations_dynamic.csv\")\n",
    "stations_static_df = pd.read_csv(\"ExportedData/stations_static.csv\")\n",
    "weather_data_df = pd.read_csv(\"ExportedData/weather_data.csv\")\n",
    "\n",
    "# Display the first few rows of each DataFrame to understand the data structure\n",
    "print(\"Stations Dynamic Data:\")\n",
    "print(stations_dynamic_df.head())\n",
    "print(\"\\nStations Static Data:\")\n",
    "print(stations_static_df.head())\n",
    "print(\"\\nWeather Data:\")\n",
    "print(weather_data_df.head())\n",
    "\n",
    "# Perform some simple analysis\n",
    "# Example: Calculate the average temperature from weather data\n",
    "average_temperature = weather_data_df['temperature'].mean()\n",
    "print(\"\\nAverage Temperature:\", average_temperature)\n",
    "\n",
    "# Example: Count the number of bike stations\n",
    "num_stations = len(stations_static_df)\n",
    "print(\"Number of Bike Stations:\", num_stations)\n",
    "\n",
    "# Example: Find the most common main events in weather data\n",
    "common_main_events = weather_data_df['main_event'].value_counts().head()\n",
    "print(\"\\nMost Common Main Events:\")\n",
    "print(common_main_events)\n"
   ]
  },
  {
   "cell_type": "code",
   "execution_count": 2,
   "id": "f5b6bfe004af5874",
   "metadata": {
    "collapsed": false
   },
   "outputs": [],
   "source": [
    "stations_dynamic_df.drop([\"banking\", \"bonus\"], axis=1, inplace=True)"
   ]
  },
  {
   "cell_type": "code",
   "execution_count": 4,
   "id": "397c02c8",
   "metadata": {},
   "outputs": [
    {
     "name": "stdout",
     "output_type": "stream",
     "text": [
      "Stations Dynamic Data:\n",
      "      id  number                  name status          last_update  \\\n",
      "0      1      42      SMITHFIELD NORTH   OPEN  2024-02-21 00:59:33   \n",
      "1      2      30  PARNELL SQUARE NORTH   OPEN  2024-02-21 00:51:51   \n",
      "2      3      54        CLONMEL STREET   OPEN  2024-02-21 00:50:28   \n",
      "3      4     108         AVONDALE ROAD   OPEN  2024-02-21 00:51:03   \n",
      "4      5      20     JAMES STREET EAST   OPEN  2024-02-21 00:52:14   \n",
      "..   ...     ...                   ...    ...                  ...   \n",
      "145  146     113  MERRION SQUARE SOUTH   OPEN  2024-02-21 01:00:06   \n",
      "146  147      91       SOUTH DOCK ROAD   OPEN  2024-02-21 01:06:57   \n",
      "147  148      99             CITY QUAY   OPEN  2024-02-21 01:05:48   \n",
      "148  149       9      EXCHEQUER STREET   OPEN  2024-02-21 01:00:27   \n",
      "149  150      67             THE POINT   OPEN  2024-02-21 01:05:48   \n",
      "\n",
      "              api_update  available_bikes  available_bike_stands  bike_stands  \n",
      "0    2024-02-21 01:00:25               30                      0           30  \n",
      "1    2024-02-21 01:00:25                0                     20           20  \n",
      "2    2024-02-21 01:00:25                3                     30           33  \n",
      "3    2024-02-21 01:00:25               25                     10           35  \n",
      "4    2024-02-21 01:00:25                0                     30           30  \n",
      "..                   ...              ...                    ...          ...  \n",
      "145  2024-02-21 01:10:03                0                     40           40  \n",
      "146  2024-02-21 01:10:03               21                      9           30  \n",
      "147  2024-02-21 01:10:03               15                     15           30  \n",
      "148  2024-02-21 01:10:03                0                     24           24  \n",
      "149  2024-02-21 01:10:03               10                     30           40  \n",
      "\n",
      "[150 rows x 9 columns]\n"
     ]
    }
   ],
   "source": [
    "print(\"Stations Dynamic Data:\")\n",
    "print(stations_dynamic_df.head(150))"
   ]
  },
  {
   "cell_type": "code",
   "execution_count": 5,
   "id": "b11c7b7b",
   "metadata": {},
   "outputs": [
    {
     "name": "stdout",
     "output_type": "stream",
     "text": [
      "<class 'pandas.core.frame.DataFrame'>\n",
      "RangeIndex: 1091094 entries, 0 to 1091093\n",
      "Data columns (total 9 columns):\n",
      " #   Column                 Non-Null Count    Dtype \n",
      "---  ------                 --------------    ----- \n",
      " 0   id                     1091094 non-null  int64 \n",
      " 1   number                 1091094 non-null  int64 \n",
      " 2   name                   1091094 non-null  object\n",
      " 3   status                 1091094 non-null  object\n",
      " 4   last_update            1091094 non-null  object\n",
      " 5   api_update             1091094 non-null  object\n",
      " 6   available_bikes        1091094 non-null  int64 \n",
      " 7   available_bike_stands  1091094 non-null  int64 \n",
      " 8   bike_stands            1091094 non-null  int64 \n",
      "dtypes: int64(5), object(4)\n",
      "memory usage: 74.9+ MB\n"
     ]
    }
   ],
   "source": [
    "stations_dynamic_df.info() #no problematic data"
   ]
  },
  {
   "cell_type": "code",
   "execution_count": 7,
   "id": "001266c2",
   "metadata": {},
   "outputs": [
    {
     "name": "stdout",
     "output_type": "stream",
     "text": [
      "<class 'pandas.core.frame.DataFrame'>\n",
      "RangeIndex: 114 entries, 0 to 113\n",
      "Data columns (total 6 columns):\n",
      " #   Column           Non-Null Count  Dtype  \n",
      "---  ------           --------------  -----  \n",
      " 0   place_id         114 non-null    int64  \n",
      " 1   place_name       114 non-null    int64  \n",
      " 2   place_address    114 non-null    object \n",
      " 3   place_latitude   114 non-null    float64\n",
      " 4   place_longitude  114 non-null    float64\n",
      " 5   api_update       114 non-null    object \n",
      "dtypes: float64(2), int64(2), object(2)\n",
      "memory usage: 5.5+ KB\n"
     ]
    }
   ],
   "source": [
    "stations_static_df.info()"
   ]
  },
  {
   "cell_type": "code",
   "execution_count": null,
   "id": "04b1addd",
   "metadata": {},
   "outputs": [],
   "source": [
    "weather_data_df.info()"
   ]
  },
  {
   "cell_type": "code",
   "execution_count": 15,
   "id": "abd79d1e",
   "metadata": {},
   "outputs": [
    {
     "name": "stdout",
     "output_type": "stream",
     "text": [
      "      id            timestamp  temperature main_event  rain_hour_day  \\\n",
      "11    12  2024-02-21 11:13:31         9.42     Clouds           9.30   \n",
      "12    13  2024-02-21 11:20:03         9.42     Clouds           9.30   \n",
      "13    14  2024-02-21 11:25:02         9.42     Clouds           9.30   \n",
      "14    15  2024-02-21 11:30:03         9.43     Clouds           9.30   \n",
      "15    16  2024-02-21 11:35:02         9.50     Clouds           9.30   \n",
      "..   ...                  ...          ...        ...            ...   \n",
      "156  157  2024-02-21 23:50:02         9.63       Rain           4.29   \n",
      "157  158  2024-02-21 23:55:02         9.63       Rain           3.80   \n",
      "158  159  2024-02-22 00:00:03         9.64       Rain           0.76   \n",
      "159  160  2024-02-22 00:05:02         9.65       Rain           0.51   \n",
      "160  161  2024-02-22 00:10:02         9.65       Rain           0.51   \n",
      "\n",
      "     feels_like  humidity  wind_speed      description  \n",
      "11         5.97        76        7.79  overcast clouds  \n",
      "12         5.97        76        7.79  overcast clouds  \n",
      "13         5.97        76        7.79  overcast clouds  \n",
      "14         5.95        76        7.94  overcast clouds  \n",
      "15         6.04        76        7.94  overcast clouds  \n",
      "..          ...       ...         ...              ...  \n",
      "156        5.77        78        9.77    moderate rain  \n",
      "157        5.77        78        9.77    moderate rain  \n",
      "158        6.15        77        8.23    moderate rain  \n",
      "159        6.16        78        8.23       light rain  \n",
      "160        6.16        78        8.23    moderate rain  \n",
      "\n",
      "[150 rows x 9 columns]\n"
     ]
    }
   ],
   "source": [
    "print(weather_data_df.head(150))"
   ]
  },
  {
   "cell_type": "code",
   "execution_count": 11,
   "id": "e734a25f",
   "metadata": {},
   "outputs": [
    {
     "name": "stdout",
     "output_type": "stream",
     "text": [
      "   id            timestamp  temperature main_event  rain_hour_day  feels_like  \\\n",
      "0   1  2024-02-21 00:58:15       282.26        NaN            NaN      278.39   \n",
      "1   2  2024-02-21 01:10:02       282.26        NaN            NaN      278.39   \n",
      "2   3  2024-02-21 01:11:02       282.26        NaN            NaN      278.39   \n",
      "3   4  2024-02-21 01:11:02       282.26        NaN            NaN      278.39   \n",
      "\n",
      "   humidity  wind_speed      description  \n",
      "0        93         9.1  overcast clouds  \n",
      "1        93         9.1       light rain  \n",
      "2        93         9.1       light rain  \n",
      "3        93         9.1       light rain  \n"
     ]
    }
   ],
   "source": [
    "null_rows_1 = weather_data_df[weather_data_df[\"main_event\"].isnull()]\n",
    "print(null_rows_1)"
   ]
  },
  {
   "cell_type": "code",
   "execution_count": 12,
   "id": "2b320e9e",
   "metadata": {},
   "outputs": [],
   "source": [
    "weather_data_df = weather_data_df.dropna(subset=['main_event']) #drop problematic rows\n",
    "weather_data_df = weather_data_df[weather_data_df['temperature'] <= 60]"
   ]
  }
 ],
 "metadata": {
  "kernelspec": {
   "display_name": "Python 3 (ipykernel)",
   "language": "python",
   "name": "python3"
  },
  "language_info": {
   "codemirror_mode": {
    "name": "ipython",
    "version": 3
   },
   "file_extension": ".py",
   "mimetype": "text/x-python",
   "name": "python",
   "nbconvert_exporter": "python",
   "pygments_lexer": "ipython3",
   "version": "3.11.7"
  }
 },
 "nbformat": 4,
 "nbformat_minor": 5
}
