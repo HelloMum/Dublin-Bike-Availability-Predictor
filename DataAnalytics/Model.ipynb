{
 "cells": [
  {
   "cell_type": "code",
   "execution_count": 2,
   "id": "4c85e5dc",
   "metadata": {
    "ExecuteTime": {
     "end_time": "2024-03-29T12:22:32.701031Z",
     "start_time": "2024-03-29T12:22:31.939567Z"
    }
   },
   "outputs": [
    {
     "name": "stdout",
     "output_type": "stream",
     "text": [
      "Stations Dynamic Data:\n",
      "   id  number                  name  banking  bonus status  \\\n",
      "0   1      42      SMITHFIELD NORTH        0      0   OPEN   \n",
      "1   2      30  PARNELL SQUARE NORTH        0      0   OPEN   \n",
      "2   3      54        CLONMEL STREET        0      0   OPEN   \n",
      "3   4     108         AVONDALE ROAD        0      0   OPEN   \n",
      "4   5      20     JAMES STREET EAST        0      0   OPEN   \n",
      "\n",
      "           last_update           api_update  available_bikes  \\\n",
      "0  2024-02-21 00:59:33  2024-02-21 01:00:25               30   \n",
      "1  2024-02-21 00:51:51  2024-02-21 01:00:25                0   \n",
      "2  2024-02-21 00:50:28  2024-02-21 01:00:25                3   \n",
      "3  2024-02-21 00:51:03  2024-02-21 01:00:25               25   \n",
      "4  2024-02-21 00:52:14  2024-02-21 01:00:25                0   \n",
      "\n",
      "   available_bike_stands  bike_stands  \n",
      "0                      0           30  \n",
      "1                     20           20  \n",
      "2                     30           33  \n",
      "3                     10           35  \n",
      "4                     30           30  \n",
      "\n",
      "Stations Static Data:\n",
      "   place_id  place_name         place_address  place_latitude  \\\n",
      "0         1          42      Smithfield North       53.349562   \n",
      "1         2          30  Parnell Square North       53.353742   \n",
      "2         3          54        Clonmel Street       53.336021   \n",
      "3         4         108         Avondale Road       53.359405   \n",
      "4         5          20     James Street East       53.336597   \n",
      "\n",
      "   place_longitude           api_update  \n",
      "0        -6.278198  2024-02-21 01:03:56  \n",
      "1        -6.265301  2024-02-21 01:03:56  \n",
      "2        -6.262980  2024-02-21 01:03:56  \n",
      "3        -6.276142  2024-02-21 01:03:56  \n",
      "4        -6.248109  2024-02-21 01:03:56  \n",
      "\n",
      "Weather Data:\n",
      "   id            timestamp  temperature main_event  rain_hour_day  feels_like  \\\n",
      "0   1  2024-02-21 00:58:15       282.26        NaN            NaN      278.39   \n",
      "1   2  2024-02-21 01:10:02       282.26        NaN            NaN      278.39   \n",
      "2   3  2024-02-21 01:11:02       282.26        NaN            NaN      278.39   \n",
      "3   4  2024-02-21 01:11:02       282.26        NaN            NaN      278.39   \n",
      "4   5  2024-02-21 01:14:01       282.26       Rain           6.87      278.39   \n",
      "\n",
      "   humidity  wind_speed      description  \n",
      "0        93         9.1  overcast clouds  \n",
      "1        93         9.1       light rain  \n",
      "2        93         9.1       light rain  \n",
      "3        93         9.1       light rain  \n",
      "4        93         9.1       light rain  \n",
      "\n",
      "Average Temperature: 8.348024122807017\n",
      "Number of Bike Stations: 114\n",
      "\n",
      "Most Common Main Events:\n",
      "main_event\n",
      "Clouds     7264\n",
      "Rain        942\n",
      "Drizzle     510\n",
      "Clear       200\n",
      "Mist        170\n",
      "Name: count, dtype: int64\n"
     ]
    }
   ],
   "source": [
    "import pandas as pd\n",
    "\n",
    "# Read CSV files into pandas DataFrames\n",
    "stations_dynamic_df = pd.read_csv(\"ExportedData/stations_dynamic.csv\")\n",
    "stations_static_df = pd.read_csv(\"ExportedData/stations_static.csv\")\n",
    "weather_data_df = pd.read_csv(\"ExportedData/weather_data.csv\")\n",
    "\n",
    "# Display the first few rows of each DataFrame to understand the data structure\n",
    "print(\"Stations Dynamic Data:\")\n",
    "print(stations_dynamic_df.head())\n",
    "print(\"\\nStations Static Data:\")\n",
    "print(stations_static_df.head())\n",
    "print(\"\\nWeather Data:\")\n",
    "print(weather_data_df.head())\n",
    "\n",
    "# Perform some simple analysis\n",
    "# Example: Calculate the average temperature from weather data\n",
    "average_temperature = weather_data_df['temperature'].mean()\n",
    "print(\"\\nAverage Temperature:\", average_temperature)\n",
    "\n",
    "# Example: Count the number of bike stations\n",
    "num_stations = len(stations_static_df)\n",
    "print(\"Number of Bike Stations:\", num_stations)\n",
    "\n",
    "# Example: Find the most common main events in weather data\n",
    "common_main_events = weather_data_df['main_event'].value_counts().head()\n",
    "print(\"\\nMost Common Main Events:\")\n",
    "print(common_main_events)\n"
   ]
  },
  {
   "cell_type": "code",
   "outputs": [],
   "source": [],
   "metadata": {
    "collapsed": false
   },
   "id": "f5b6bfe004af5874"
  }
 ],
 "metadata": {
  "kernelspec": {
   "display_name": "Python 3 (ipykernel)",
   "language": "python",
   "name": "python3"
  },
  "language_info": {
   "codemirror_mode": {
    "name": "ipython",
    "version": 3
   },
   "file_extension": ".py",
   "mimetype": "text/x-python",
   "name": "python",
   "nbconvert_exporter": "python",
   "pygments_lexer": "ipython3",
   "version": "3.7.1"
  }
 },
 "nbformat": 4,
 "nbformat_minor": 5
}
