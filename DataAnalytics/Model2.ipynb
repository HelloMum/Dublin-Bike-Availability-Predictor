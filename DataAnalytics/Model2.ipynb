{
 "cells": [
  {
   "cell_type": "code",
   "execution_count": 2,
   "id": "initial_id",
   "metadata": {
    "collapsed": true,
    "ExecuteTime": {
     "end_time": "2024-04-16T15:49:10.479474Z",
     "start_time": "2024-04-16T15:49:10.440355Z"
    }
   },
   "outputs": [],
   "source": [
    "import matplotlib.pyplot as plt\n",
    "import seaborn as sns\n",
    "import pandas as pd\n",
    "from sklearn.model_selection import train_test_split\n",
    "from sklearn.svm import SVC\n",
    "import joblib"
   ]
  },
  {
   "cell_type": "code",
   "outputs": [
    {
     "name": "stdout",
     "output_type": "stream",
     "text": [
      "Stations Dynamic Data:\n",
      "   id  number                  name  banking  bonus status  \\\n",
      "0   1      42      SMITHFIELD NORTH        0      0   OPEN   \n",
      "1   2      30  PARNELL SQUARE NORTH        0      0   OPEN   \n",
      "2   3      54        CLONMEL STREET        0      0   OPEN   \n",
      "3   4     108         AVONDALE ROAD        0      0   OPEN   \n",
      "4   5      20     JAMES STREET EAST        0      0   OPEN   \n",
      "\n",
      "           last_update           api_update  available_bikes  \\\n",
      "0  2024-02-21 00:59:33  2024-02-21 01:00:25               30   \n",
      "1  2024-02-21 00:51:51  2024-02-21 01:00:25                0   \n",
      "2  2024-02-21 00:50:28  2024-02-21 01:00:25                3   \n",
      "3  2024-02-21 00:51:03  2024-02-21 01:00:25               25   \n",
      "4  2024-02-21 00:52:14  2024-02-21 01:00:25                0   \n",
      "\n",
      "   available_bike_stands  bike_stands  \n",
      "0                      0           30  \n",
      "1                     20           20  \n",
      "2                     30           33  \n",
      "3                     10           35  \n",
      "4                     30           30  \n",
      "\n",
      "Stations Static Data:\n",
      "   place_id  place_name         place_address  place_latitude  \\\n",
      "0         1          42      Smithfield North       53.349562   \n",
      "1         2          30  Parnell Square North       53.353742   \n",
      "2         3          54        Clonmel Street       53.336021   \n",
      "3         4         108         Avondale Road       53.359405   \n",
      "4         5          20     James Street East       53.336597   \n",
      "\n",
      "   place_longitude           api_update  \n",
      "0        -6.278198  2024-02-21 01:03:56  \n",
      "1        -6.265301  2024-02-21 01:03:56  \n",
      "2        -6.262980  2024-02-21 01:03:56  \n",
      "3        -6.276142  2024-02-21 01:03:56  \n",
      "4        -6.248109  2024-02-21 01:03:56  \n",
      "\n",
      "Weather Data:\n",
      "   id            timestamp  temperature main_event  rain_hour_day  feels_like  \\\n",
      "0   1  2024-02-21 00:58:15       282.26        NaN            NaN      278.39   \n",
      "1   2  2024-02-21 01:10:02       282.26        NaN            NaN      278.39   \n",
      "2   3  2024-02-21 01:11:02       282.26        NaN            NaN      278.39   \n",
      "3   4  2024-02-21 01:11:02       282.26        NaN            NaN      278.39   \n",
      "4   5  2024-02-21 01:14:01       282.26       Rain           6.87      278.39   \n",
      "\n",
      "   humidity  wind_speed      description  \n",
      "0        93         9.1  overcast clouds  \n",
      "1        93         9.1       light rain  \n",
      "2        93         9.1       light rain  \n",
      "3        93         9.1       light rain  \n",
      "4        93         9.1       light rain  \n",
      "\n",
      "Average Temperature: 8.348024122807017\n",
      "Number of Bike Stations: 114\n",
      "\n",
      "Most Common Main Events:\n",
      "main_event\n",
      "Clouds     7264\n",
      "Rain        942\n",
      "Drizzle     510\n",
      "Clear       200\n",
      "Mist        170\n",
      "Name: count, dtype: int64\n"
     ]
    }
   ],
   "source": [
    "# Read CSV files into pandas DataFrames\n",
    "stations_dynamic_df = pd.read_csv(\"ExportedData/stations_dynamic.csv\")\n",
    "stations_static_df = pd.read_csv(\"ExportedData/stations_static.csv\")\n",
    "weather_data_df = pd.read_csv(\"ExportedData/weather_data.csv\")\n",
    "\n",
    "# Display the first few rows of each DataFrame to understand the data structure\n",
    "print(\"Stations Dynamic Data:\")\n",
    "print(stations_dynamic_df.head())\n",
    "print(\"\\nStations Static Data:\")\n",
    "print(stations_static_df.head())\n",
    "print(\"\\nWeather Data:\")\n",
    "print(weather_data_df.head())\n",
    "\n",
    "# Perform some simple analysis\n",
    "# Example: Calculate the average temperature from weather data\n",
    "average_temperature = weather_data_df[\"temperature\"].mean()\n",
    "print(\"\\nAverage Temperature:\", average_temperature)\n",
    "\n",
    "# Example: Count the number of bike stations\n",
    "num_stations = len(stations_static_df)\n",
    "print(\"Number of Bike Stations:\", num_stations)\n",
    "\n",
    "# Example: Find the most common main events in weather data\n",
    "common_main_events = weather_data_df[\"main_event\"].value_counts().head()\n",
    "print(\"\\nMost Common Main Events:\")\n",
    "print(common_main_events)"
   ],
   "metadata": {
    "collapsed": false,
    "ExecuteTime": {
     "end_time": "2024-04-16T15:49:11.267827Z",
     "start_time": "2024-04-16T15:49:10.480255Z"
    }
   },
   "id": "323c9078c87dfec8",
   "execution_count": 3
  },
  {
   "cell_type": "code",
   "outputs": [
    {
     "name": "stdout",
     "output_type": "stream",
     "text": [
      "           id_x  number                               name  banking  bonus  \\\n",
      "0        149925      98             FREDERICK STREET SOUTH        0      0   \n",
      "1        150069       4                       GREEK STREET        0      0   \n",
      "2        150059       9                   EXCHEQUER STREET        0      0   \n",
      "3        149930     112  NORTH CIRCULAR ROAD (O'CONNELL'S)        0      0   \n",
      "4        150130      40                      JERVIS STREET        0      0   \n",
      "...         ...     ...                                ...      ...    ...   \n",
      "577904  1091085       3                      BOLTON STREET        0      0   \n",
      "577905  1090998      23                       CUSTOM HOUSE        0      0   \n",
      "577906  1091021      97                    KILMAINHAM GAOL        0      0   \n",
      "577907  1091048      69                   GRAND CANAL DOCK        0      0   \n",
      "577908  1091073     100             HEUSTON BRIDGE (SOUTH)        0      0   \n",
      "\n",
      "       status         last_update           api_update  available_bikes  \\\n",
      "0        OPEN 2024-02-25 14:27:32  2024-02-25 14:30:02               26   \n",
      "1        OPEN 2024-02-25 14:27:51  2024-02-25 14:35:02               10   \n",
      "2        OPEN 2024-02-25 14:27:51  2024-02-25 14:35:02               15   \n",
      "3        OPEN 2024-02-25 14:28:01  2024-02-25 14:30:02               11   \n",
      "4        OPEN 2024-02-25 14:28:33  2024-02-25 14:35:03               21   \n",
      "...       ...                 ...                  ...              ...   \n",
      "577904   OPEN 2024-03-26 09:09:24  2024-03-26 09:10:04                5   \n",
      "577905   OPEN 2024-03-26 09:09:26  2024-03-26 09:10:03               27   \n",
      "577906   OPEN 2024-03-26 09:09:28  2024-03-26 09:10:03                3   \n",
      "577907   OPEN 2024-03-26 09:09:28  2024-03-26 09:10:04               38   \n",
      "577908   OPEN 2024-03-26 09:09:29  2024-03-26 09:10:04                9   \n",
      "\n",
      "        available_bike_stands  bike_stands  id_y           timestamp  \\\n",
      "0                          14           40   854 2024-02-25 14:27:18   \n",
      "1                          10           20   854 2024-02-25 14:27:18   \n",
      "2                           9           24   854 2024-02-25 14:27:18   \n",
      "3                          19           30   854 2024-02-25 14:27:18   \n",
      "4                           0           21   854 2024-02-25 14:27:18   \n",
      "...                       ...          ...   ...                 ...   \n",
      "577904                     15           20  9120 2024-03-26 09:10:03   \n",
      "577905                      1           30  9120 2024-03-26 09:10:03   \n",
      "577906                     37           40  9120 2024-03-26 09:10:03   \n",
      "577907                      1           40  9120 2024-03-26 09:10:03   \n",
      "577908                     16           25  9120 2024-03-26 09:10:03   \n",
      "\n",
      "        temperature main_event  rain_hour_day  feels_like  humidity  \\\n",
      "0              7.70     Clouds            0.0        3.22        81   \n",
      "1              7.70     Clouds            0.0        3.22        81   \n",
      "2              7.70     Clouds            0.0        3.22        81   \n",
      "3              7.70     Clouds            0.0        3.22        81   \n",
      "4              7.70     Clouds            0.0        3.22        81   \n",
      "...             ...        ...            ...         ...       ...   \n",
      "577904         7.74    Drizzle            0.0        4.44        94   \n",
      "577905         7.74    Drizzle            0.0        4.44        94   \n",
      "577906         7.74    Drizzle            0.0        4.44        94   \n",
      "577907         7.74    Drizzle            0.0        4.44        94   \n",
      "577908         7.74    Drizzle            0.0        4.44        94   \n",
      "\n",
      "        wind_speed              description  \n",
      "0             9.77            broken clouds  \n",
      "1             9.77            broken clouds  \n",
      "2             9.77            broken clouds  \n",
      "3             9.77            broken clouds  \n",
      "4             9.77            broken clouds  \n",
      "...            ...                      ...  \n",
      "577904        5.81  light intensity drizzle  \n",
      "577905        5.81  light intensity drizzle  \n",
      "577906        5.81  light intensity drizzle  \n",
      "577907        5.81  light intensity drizzle  \n",
      "577908        5.81  light intensity drizzle  \n",
      "\n",
      "[577909 rows x 20 columns]\n"
     ]
    }
   ],
   "source": [
    "### Drop duplicates rows as we did a few extra scrapping, we will keep weather.\n",
    "stations_dynamic_df.drop_duplicates(subset=['number', 'last_update'], keep='last')\n",
    "\n",
    "### Transform dates \n",
    "stations_dynamic_df['last_update'] = pd.to_datetime(stations_dynamic_df['last_update'])\n",
    "weather_data_df['timestamp'] = pd.to_datetime(weather_data_df['timestamp'])\n",
    "\n",
    "# Drop duplicate rows from stations_dynamic_df keeping the last occurrence\n",
    "stations_dynamic_df = stations_dynamic_df.drop_duplicates(subset=['number', 'last_update'], keep='last')\n",
    "weather_data_df = weather_data_df.drop_duplicates(subset=['timestamp'], keep='last')\n",
    "stations_dynamic_df.sort_values('last_update', inplace=True)\n",
    "weather_data_df.sort_values('timestamp', inplace=True)\n",
    "\n",
    "# Filter the DataFrames based on the condition\n",
    "stations_dynamic_df = stations_dynamic_df[stations_dynamic_df['last_update'] >= '2024-02-25 14:27:18']\n",
    "weather_data_df = weather_data_df[weather_data_df['timestamp'] >= '2024-02-25 14:27:18']\n",
    "\n",
    "\n",
    "merged_df = pd.merge_asof(stations_dynamic_df, weather_data_df, left_on='last_update', right_on='timestamp', direction='nearest')\n",
    "print(merged_df)"
   ],
   "metadata": {
    "collapsed": false,
    "ExecuteTime": {
     "end_time": "2024-04-16T15:49:12.000110Z",
     "start_time": "2024-04-16T15:49:11.268462Z"
    }
   },
   "id": "1d5b1597a72b6f77",
   "execution_count": 4
  },
  {
   "cell_type": "code",
   "outputs": [
    {
     "name": "stdout",
     "output_type": "stream",
     "text": [
      "        number                               name  available_bikes  \\\n",
      "0           98             FREDERICK STREET SOUTH               26   \n",
      "1            4                       GREEK STREET               10   \n",
      "2            9                   EXCHEQUER STREET               15   \n",
      "3          112  NORTH CIRCULAR ROAD (O'CONNELL'S)               11   \n",
      "4           40                      JERVIS STREET               21   \n",
      "...        ...                                ...              ...   \n",
      "577904       3                      BOLTON STREET                5   \n",
      "577905      23                       CUSTOM HOUSE               27   \n",
      "577906      97                    KILMAINHAM GAOL                3   \n",
      "577907      69                   GRAND CANAL DOCK               38   \n",
      "577908     100             HEUSTON BRIDGE (SOUTH)                9   \n",
      "\n",
      "        available_bike_stands  bike_stands           timestamp  temperature  \\\n",
      "0                          14           40 2024-02-25 14:27:18         7.70   \n",
      "1                          10           20 2024-02-25 14:27:18         7.70   \n",
      "2                           9           24 2024-02-25 14:27:18         7.70   \n",
      "3                          19           30 2024-02-25 14:27:18         7.70   \n",
      "4                           0           21 2024-02-25 14:27:18         7.70   \n",
      "...                       ...          ...                 ...          ...   \n",
      "577904                     15           20 2024-03-26 09:10:03         7.74   \n",
      "577905                      1           30 2024-03-26 09:10:03         7.74   \n",
      "577906                     37           40 2024-03-26 09:10:03         7.74   \n",
      "577907                      1           40 2024-03-26 09:10:03         7.74   \n",
      "577908                     16           25 2024-03-26 09:10:03         7.74   \n",
      "\n",
      "       main_event  rain_hour_day  feels_like  humidity  wind_speed  \\\n",
      "0          Clouds            0.0        3.22        81        9.77   \n",
      "1          Clouds            0.0        3.22        81        9.77   \n",
      "2          Clouds            0.0        3.22        81        9.77   \n",
      "3          Clouds            0.0        3.22        81        9.77   \n",
      "4          Clouds            0.0        3.22        81        9.77   \n",
      "...           ...            ...         ...       ...         ...   \n",
      "577904    Drizzle            0.0        4.44        94        5.81   \n",
      "577905    Drizzle            0.0        4.44        94        5.81   \n",
      "577906    Drizzle            0.0        4.44        94        5.81   \n",
      "577907    Drizzle            0.0        4.44        94        5.81   \n",
      "577908    Drizzle            0.0        4.44        94        5.81   \n",
      "\n",
      "                    description  \n",
      "0                 broken clouds  \n",
      "1                 broken clouds  \n",
      "2                 broken clouds  \n",
      "3                 broken clouds  \n",
      "4                 broken clouds  \n",
      "...                         ...  \n",
      "577904  light intensity drizzle  \n",
      "577905  light intensity drizzle  \n",
      "577906  light intensity drizzle  \n",
      "577907  light intensity drizzle  \n",
      "577908  light intensity drizzle  \n",
      "\n",
      "[577909 rows x 13 columns]\n"
     ]
    }
   ],
   "source": [
    "merged_df.drop(columns=['last_update', 'api_update','status','banking','bonus', 'id_x','id_y'], inplace=True)\n",
    "print(merged_df)"
   ],
   "metadata": {
    "collapsed": false,
    "ExecuteTime": {
     "end_time": "2024-04-16T15:49:12.026179Z",
     "start_time": "2024-04-16T15:49:12.001037Z"
    }
   },
   "id": "3efc901489b19ac5",
   "execution_count": 5
  },
  {
   "cell_type": "code",
   "outputs": [
    {
     "name": "stdout",
     "output_type": "stream",
     "text": [
      "   number                               name  available_bikes  \\\n",
      "0      98             FREDERICK STREET SOUTH               26   \n",
      "1       4                       GREEK STREET               10   \n",
      "2       9                   EXCHEQUER STREET               15   \n",
      "3     112  NORTH CIRCULAR ROAD (O'CONNELL'S)               11   \n",
      "4      40                      JERVIS STREET               21   \n",
      "\n",
      "   available_bike_stands  bike_stands           timestamp  temperature  \\\n",
      "0                     14           40 2024-02-25 14:30:00          7.7   \n",
      "1                     10           20 2024-02-25 14:30:00          7.7   \n",
      "2                      9           24 2024-02-25 14:30:00          7.7   \n",
      "3                     19           30 2024-02-25 14:30:00          7.7   \n",
      "4                      0           21 2024-02-25 14:30:00          7.7   \n",
      "\n",
      "  main_event  rain_hour_day  feels_like  humidity  wind_speed    description  \\\n",
      "0     Clouds            0.0        3.22        81        9.77  broken clouds   \n",
      "1     Clouds            0.0        3.22        81        9.77  broken clouds   \n",
      "2     Clouds            0.0        3.22        81        9.77  broken clouds   \n",
      "3     Clouds            0.0        3.22        81        9.77  broken clouds   \n",
      "4     Clouds            0.0        3.22        81        9.77  broken clouds   \n",
      "\n",
      "   day_of_week  hour_per_day  \n",
      "0            6            14  \n",
      "1            6            14  \n",
      "2            6            14  \n",
      "3            6            14  \n",
      "4            6            14  \n"
     ]
    }
   ],
   "source": [
    "merged_df['timestamp'] = merged_df['timestamp'].dt.round('10min')\n",
    "\n",
    "# Separate day of the week and hour per day from the timestamp\n",
    "merged_df['day_of_week'] = merged_df['timestamp'].dt.dayofweek\n",
    "merged_df['hour_per_day'] = merged_df['timestamp'].dt.hour\n",
    "print(merged_df.head())\n"
   ],
   "metadata": {
    "collapsed": false,
    "ExecuteTime": {
     "end_time": "2024-04-16T15:49:12.104580Z",
     "start_time": "2024-04-16T15:49:12.027146Z"
    }
   },
   "id": "89fcb82b17e4e0fa",
   "execution_count": 6
  },
  {
   "cell_type": "code",
   "outputs": [
    {
     "name": "stdout",
     "output_type": "stream",
     "text": [
      "Mean Squared Error: 39.0965\n"
     ]
    },
    {
     "data": {
      "text/plain": "<Figure size 800x600 with 1 Axes>",
      "image/png": "[encoded data removed]"
     },
     "metadata": {},
     "output_type": "display_data"
    }
   ],
   "source": [
    "from sklearn.metrics import mean_squared_error\n",
    "\n",
    "# Define features and target variable\n",
    "X = merged_df[['number','day_of_week', 'hour_per_day','rain_hour_day', 'temperature', 'wind_speed', 'available_bike_stands']].head(10000)\n",
    "y = merged_df['available_bikes'].head(10000)  # Target variable\n",
    "\n",
    "# Split the data into training and testing sets\n",
    "X_train, X_test, y_train, y_test = train_test_split(X, y, test_size=0.2, random_state=42)\n",
    "X.to_csv('input_features.csv', index=False)\n",
    "y.to_csv('target_variable.csv', index=False)\n",
    "\n",
    "# Train a support vector machine classifier\n",
    "svm_classifier = SVC()\n",
    "svm_classifier.fit(X_train, y_train)\n",
    "joblib.dump(svm_classifier, 'svm_model.pkl')\n",
    "\n",
    "# Make predictions on the test set\n",
    "y_pred = svm_classifier.predict(X_test)\n",
    "\n",
    "# Calculate mean squared error\n",
    "mse = mean_squared_error(y_test, y_pred)\n",
    "print(\"Mean Squared Error:\", mse)\n",
    "\n",
    "# Plot predicted vs actual\n",
    "plt.figure(figsize=(8, 6))\n",
    "plt.scatter(y_test, y_pred)\n",
    "plt.plot([min(y_test), max(y_test)], [min(y_test), max(y_test)], '--', color='red')  # identity line\n",
    "plt.xlabel('Actual')\n",
    "plt.ylabel('Predicted')\n",
    "plt.title('Actual vs Predicted')\n",
    "plt.show()"
   ],
   "metadata": {
    "collapsed": false,
    "ExecuteTime": {
     "end_time": "2024-04-16T15:49:14.125118Z",
     "start_time": "2024-04-16T15:49:12.105116Z"
    }
   },
   "id": "19d88ebfaec6f87e",
   "execution_count": 7
  },
  {
   "cell_type": "code",
   "outputs": [],
   "source": [],
   "metadata": {
    "collapsed": false,
    "ExecuteTime": {
     "end_time": "2024-04-16T15:49:14.127577Z",
     "start_time": "2024-04-16T15:49:14.126149Z"
    }
   },
   "id": "b0af761e7559443d",
   "execution_count": 7
  },
  {
   "cell_type": "code",
   "outputs": [],
   "source": [],
   "metadata": {
    "collapsed": false,
    "ExecuteTime": {
     "end_time": "2024-04-16T15:49:14.129919Z",
     "start_time": "2024-04-16T15:49:14.128292Z"
    }
   },
   "id": "a62fda8c7c354298",
   "execution_count": 7
  }
 ],
 "metadata": {
  "kernelspec": {
   "display_name": "Python 3",
   "language": "python",
   "name": "python3"
  },
  "language_info": {
   "codemirror_mode": {
    "name": "ipython",
    "version": 2
   },
   "file_extension": ".py",
   "mimetype": "text/x-python",
   "name": "python",
   "nbconvert_exporter": "python",
   "pygments_lexer": "ipython2",
   "version": "2.7.6"
  }
 },
 "nbformat": 4,
 "nbformat_minor": 5
}
